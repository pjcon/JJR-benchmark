{
 "cells": [
  {
   "cell_type": "code",
   "execution_count": 1,
   "id": "ca550958-2123-4683-bf1b-30e3b47080fc",
   "metadata": {},
   "outputs": [],
   "source": [
    "import pandas as pd"
   ]
  },
  {
   "cell_type": "code",
   "execution_count": 2,
   "id": "808abfa1-faf5-42e7-86d9-869ca47d0657",
   "metadata": {},
   "outputs": [],
   "source": [
    "data = pd.read_csv('./results.csv', skiprows=1)"
   ]
  },
  {
   "cell_type": "code",
   "execution_count": 3,
   "id": "147eed70-ac80-4fef-9538-1abe026a30ed",
   "metadata": {},
   "outputs": [
    {
     "data": {
      "text/plain": [
       "Index(['procedure_time', 'num_records_generated', 'num_blahd_pre',\n",
       "       'num_blahd_post', 'num_event_pre', 'num_event_post', 'num_job_pre',\n",
       "       'num_job_post'],\n",
       "      dtype='object')"
      ]
     },
     "execution_count": 3,
     "metadata": {},
     "output_type": "execute_result"
    }
   ],
   "source": [
    "data.columns"
   ]
  },
  {
   "cell_type": "code",
   "execution_count": 4,
   "id": "09dd6b6f-e154-49f2-8deb-aa069070c73e",
   "metadata": {},
   "outputs": [],
   "source": [
    "t = data['procedure_time']\n",
    "nr = data['num_records_generated']\n",
    "nb = data['num_blahd_pre']"
   ]
  },
  {
   "cell_type": "code",
   "execution_count": 5,
   "id": "5bde020d-6bc9-4f73-9678-fa0cca5a5ef1",
   "metadata": {},
   "outputs": [],
   "source": [
    "import matplotlib.pyplot as plt"
   ]
  },
  {
   "cell_type": "code",
   "execution_count": 28,
   "id": "7f8a8900-3291-43b8-86ff-d7f80c2eff0e",
   "metadata": {},
   "outputs": [
    {
     "data": {
      "image/png": "[encoded data removed]",
      "text/plain": [
       "<Figure size 432x288 with 1 Axes>"
      ]
     },
     "metadata": {
      "needs_background": "light"
     },
     "output_type": "display_data"
    }
   ],
   "source": [
    "_ = plt.loglog(data['num_blahd_pre'], t/data['num_records_generated'], '.')\n",
    "_ = plt.xlabel('blahd records pre-existing')\n",
    "_ = plt.ylabel('time / [seconds/new_record]')\n",
    "_ = plt.title('Adverse time scaling with increasing database size')"
   ]
  },
  {
   "cell_type": "code",
   "execution_count": null,
   "id": "ade9d15d-525d-470d-875a-31d132060ac3",
   "metadata": {},
   "outputs": [],
   "source": []
  }
 ],
 "metadata": {
  "kernelspec": {
   "display_name": "Python 3 (ipykernel)",
   "language": "python",
   "name": "python3"
  },
  "language_info": {
   "codemirror_mode": {
    "name": "ipython",
    "version": 3
   },
   "file_extension": ".py",
   "mimetype": "text/x-python",
   "name": "python",
   "nbconvert_exporter": "python",
   "pygments_lexer": "ipython3",
   "version": "3.9.7"
  }
 },
 "nbformat": 4,
 "nbformat_minor": 5
}
